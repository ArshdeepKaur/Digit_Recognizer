{
 "cells": [
  {
   "cell_type": "code",
   "execution_count": null,
   "metadata": {
    "collapsed": true
   },
   "outputs": [],
   "source": [
    "###########################################\n",
    "#        Script By Arshi and Rishi        #\n",
    "#                                         #\n",
    "###########################################"
   ]
  },
  {
   "cell_type": "code",
   "execution_count": 8,
   "metadata": {
    "collapsed": true
   },
   "outputs": [],
   "source": [
    "from mnist import MNIST\n",
    "import numpy as np\n",
    "import time\n",
    "import matplotlib.pyplot as plt\n",
    "import random\n",
    "\n",
    "from pandas import DataFrame\n",
    "import pandas as pd\n",
    "import math"
   ]
  },
  {
   "cell_type": "code",
   "execution_count": 9,
   "metadata": {},
   "outputs": [
    {
     "name": "stdout",
     "output_type": "stream",
     "text": [
      "****************************** Data/Image Structure\n",
      "Images Structure:  (60000, 784)\n",
      "Label Structure:  (60000,)\n"
     ]
    }
   ],
   "source": [
    "#Use the following to isntall this MNIST Reading Library\n",
    "#pip install python-mnist\n",
    "mndata = MNIST('./Data/MNIST')                     #Specify your path to the ubyte files here\n",
    "training_data = mndata.load_training() #training_data[0] contains 60K images in 60Kx784 format and 60K Labels in 60K x 1 format\n",
    "testing_data = mndata.load_testing()   #training_data[0] contains 10K images in 10Kx784 format and 10K Labels in 10K x 1 format\n",
    "\n",
    "#Number of Images you want to Display\n",
    "num_images = 0\n",
    "\n",
    "#Waiting Time in Seconds between each displayed image\n",
    "wait_time = 0.5\n",
    "\n",
    "print(\"****************************** Data/Image Structure\")\n",
    "print (\"Images Structure: \", np.shape(training_data[0]))\n",
    "print (\"Label Structure: \", np.shape(training_data[1]))"
   ]
  },
  {
   "cell_type": "code",
   "execution_count": 10,
   "metadata": {},
   "outputs": [
    {
     "name": "stdout",
     "output_type": "stream",
     "text": [
      "Size Of Training Data: 60000\n",
      "Size Of Testing Data: 10000\n",
      "NO. of Input Neurons: 784\n"
     ]
    }
   ],
   "source": [
    "'''\n",
    "Function to Display Images\n",
    "'''\n",
    "def show_images():\n",
    "    im_count=0\n",
    "    while im_count<num_images:\n",
    "        img = np.array(training_data[0][im_count])         #img is 1 x 784\n",
    "        label = np.array(training_data[1][im_count])    #label for img\n",
    "        np.resize(img,(28,28))                #1 x 784 -> 28 x 28\n",
    "        img = np.reshape(img, (28, 28))\n",
    "        plt.imshow(img, cmap='gray', interpolation='nearest')\n",
    "        plt.show(block=False)                #Show Image\n",
    "        im_count+=1\n",
    "        print (\"Image Label: \", label)        #Print Image Label\n",
    "        time.sleep(wait_time)\n",
    "        plt.close()\n",
    "\n",
    "num_training_examples = len(training_data[0])\n",
    "num_testing_examples = len(testing_data[0])\n",
    "num_input_neurons = len(training_data[0][0])\n",
    "\n",
    "print (\"Size Of Training Data:\", num_training_examples)\n",
    "print (\"Size Of Testing Data:\", num_testing_examples)\n",
    "print (\"NO. of Input Neurons:\", num_input_neurons)\n",
    "\n",
    "#Function Call to Plot Each Digit Image\n",
    "show_images()"
   ]
  },
  {
   "cell_type": "code",
   "execution_count": 27,
   "metadata": {},
   "outputs": [],
   "source": [
    "'''\n",
    "Function to split images into train, test, validate\n",
    "INPUTS: n_train= percentage of train, n_test = percentage of test  \n",
    "OUTPUTS: NA\n",
    "RETURN: NA\n",
    "'''\n",
    "training_data_by_labels = {} \n",
    "testing_data_by_labels = {} \n",
    "validation_data_by_labels ={} \n",
    "\n",
    "def train_test_validate_split(train, test): #by default percentage for validate is 100 - (train + test)\n",
    "    training_data_by_labels.clear()\n",
    "    testing_data_by_labels.clear()\n",
    "    validation_data_by_labels.clear()\n",
    "\n",
    "    itr_label = 0\n",
    "    while (itr_label < 10):\n",
    "        \n",
    "        np.random.shuffle(data_by_labels_dict[itr_label])\n",
    "        \n",
    "        n_label = len(data_by_labels_dict[itr_label])\n",
    "        n_train = train/100 * n_label\n",
    "        n_test = test/100 * n_label\n",
    "        n_validate = n_label - (n_train+n_test)\n",
    "\n",
    "        itr_train=0\n",
    "        while(itr_train < n_train):\n",
    "            try:\n",
    "                curr_list = training_data_by_labels[itr_label] \n",
    "                curr_list.append(data_by_labels_dict[itr_label][itr_train])    \n",
    "                temp_dict = {itr_label:curr_list} \n",
    "                training_data_by_labels.update(temp_dict)\n",
    "            except: \n",
    "                curr_list = [data_by_labels_dict[itr_label][itr_train]]\n",
    "                temp_dict = {itr_label:curr_list}\n",
    "                training_data_by_labels.update(temp_dict)\n",
    "            itr_train+=1\n",
    "        itr_test=itr_train\n",
    "        while(itr_test < (n_train +n_test)):\n",
    "            try:\n",
    "                curr_list = testing_data_by_labels[itr_label] \n",
    "                curr_list.append(data_by_labels_dict[itr_label][itr_test])    \n",
    "                temp_dict = {itr_label:curr_list} \n",
    "                testing_data_by_labels.update(temp_dict)\n",
    "            except: \n",
    "                curr_list = [data_by_labels_dict[itr_label][itr_test]]\n",
    "                temp_dict = {itr_label:curr_list}\n",
    "                testing_data_by_labels.update(temp_dict)\n",
    "            itr_test+=1\n",
    "        itr_validate=itr_test\n",
    "        while(itr_validate < n_train+n_test + n_validate):\n",
    "            try:\n",
    "                curr_list = validation_data_by_labels[itr_label] \n",
    "                curr_list.append(data_by_labels_dict[itr_label][itr_validate])    \n",
    "                temp_dict = {itr_label:curr_list} \n",
    "                validation_data_by_labels.update(temp_dict)\n",
    "            except: \n",
    "                curr_list = [data_by_labels_dict[itr_label][itr_validate]]\n",
    "                temp_dict = {itr_label:curr_list}\n",
    "                validation_data_by_labels.update(temp_dict)\n",
    "            itr_validate+=1\n",
    "        itr_label+=1\n",
    "    for i in range(len(training_data_by_labels)):\n",
    "        print (\"Length of Class: \",i,\"in training is: \", len(training_data_by_labels[i]))\n",
    "        print (\"Length of Class: \",i,\"in testing is: \", len(testing_data_by_labels[i]))\n",
    "        print (\"Length of Class: \",i,\"in validation is: \", len(validation_data_by_labels[i]))\n",
    "        print(\"\\n\")\n"
   ]
  },
  {
   "cell_type": "code",
   "execution_count": 11,
   "metadata": {},
   "outputs": [
    {
     "name": "stdout",
     "output_type": "stream",
     "text": [
      "\n",
      "****************************** Method 1: LIST IMPLEMENTATION\n",
      "[METHOD 1]: Length of Class:  0  is:  5923\n",
      "[METHOD 1]: Length of Class:  1  is:  6742\n",
      "[METHOD 1]: Length of Class:  2  is:  5958\n",
      "[METHOD 1]: Length of Class:  3  is:  6131\n",
      "[METHOD 1]: Length of Class:  4  is:  5842\n",
      "[METHOD 1]: Length of Class:  5  is:  5421\n",
      "[METHOD 1]: Length of Class:  6  is:  5918\n",
      "[METHOD 1]: Length of Class:  7  is:  6265\n",
      "[METHOD 1]: Length of Class:  8  is:  5851\n",
      "[METHOD 1]: Length of Class:  9  is:  5949\n",
      "\n",
      "Time Elapsed in list implementation:  00:00:05\n"
     ]
    }
   ],
   "source": [
    "list_start_time = time.time()\n",
    "print (\"\\n****************************** Method 1: LIST IMPLEMENTATION\")\n",
    "im_count=0\n",
    "data_by_labels = [[]] * 10 #lists of 10 lists\n",
    "\n",
    "#initialize dynamic lists\n",
    "itr_label = 0\n",
    "while (itr_label < 10):\n",
    "    data_by_labels[itr_label] = list()\n",
    "    #print ( \"Label ID:\", itr_label, \", List ID:\", id(data_by_labels[itr_label]))\n",
    "    itr_label+=1\n",
    "\n",
    "while im_count<len(training_data[1]):\n",
    "    label = np.array(training_data[1][im_count])    \n",
    "    data_by_labels[label].append(np.array(training_data[0][im_count])) #split data by labels\n",
    "    im_count+=1    \n",
    "\n",
    "list_implementation_time = time.time()\n",
    "for i in range(10):\n",
    "    print (\"[METHOD 1]: Length of Class: \",i,\" is: \", len(data_by_labels[i]))\n",
    "\n",
    "list_elapsed = list_implementation_time - list_start_time\n",
    "print (\"\\nTime Elapsed in list implementation: \", time.strftime(\"%H:%M:%S\", time.gmtime(list_elapsed)))\n"
   ]
  },
  {
   "cell_type": "code",
   "execution_count": 12,
   "metadata": {},
   "outputs": [
    {
     "name": "stdout",
     "output_type": "stream",
     "text": [
      "\n",
      "****************************** Method 2: DICTIONARY IMPLEMENTATION\n",
      "Length of Dictionary is:  10\n",
      "[METHOD 2]: Length of Class:  0  is:  5923\n",
      "[METHOD 2]: Length of Class:  1  is:  6742\n",
      "[METHOD 2]: Length of Class:  2  is:  5958\n",
      "[METHOD 2]: Length of Class:  3  is:  6131\n",
      "[METHOD 2]: Length of Class:  4  is:  5842\n",
      "[METHOD 2]: Length of Class:  5  is:  5421\n",
      "[METHOD 2]: Length of Class:  6  is:  5918\n",
      "[METHOD 2]: Length of Class:  7  is:  6265\n",
      "[METHOD 2]: Length of Class:  8  is:  5851\n",
      "[METHOD 2]: Length of Class:  9  is:  5949\n",
      "\n",
      "Time Elapsed in dict implementation:  00:00:00\n"
     ]
    }
   ],
   "source": [
    "im_count=0\n",
    "dict_start_time = time.time()\n",
    "#Dictionary Implementation\n",
    "print (\"\\n****************************** Method 2: DICTIONARY IMPLEMENTATION\")\n",
    "data_by_labels_dict = {}\n",
    "while im_count<len(training_data[1]):\n",
    "    label = training_data[1][im_count]            #extract label for image\n",
    "    try:\n",
    "        curr_list = data_by_labels_dict[label] #Get the current list of images for a particular label\n",
    "        curr_list.append(training_data[0][im_count])    #Append the new image to the bigger list for dictionary\n",
    "        temp_dict = {label:curr_list}                    #Create a temporary small dictionary\n",
    "        data_by_labels_dict.update(temp_dict)    #Update master dictionary\n",
    "    except:                                                #If no data found for that label\n",
    "        curr_list = [training_data[0][im_count]]\n",
    "        temp_dict = {label:curr_list}\n",
    "        data_by_labels_dict.update(temp_dict)\n",
    "    \n",
    "    im_count+=1    \n",
    "    \n",
    "dict_implementation_time        = time.time()    \n",
    "\n",
    "final_dict_len = len(data_by_labels_dict)\n",
    "print (\"Length of Dictionary is: \", final_dict_len)\n",
    "for i in range(final_dict_len):\n",
    "    print (\"[METHOD 2]: Length of Class: \",i,\" is: \", len(data_by_labels_dict[i]))\n",
    "    \n",
    "dict_elapsed = dict_implementation_time - dict_start_time\n",
    "print (\"\\nTime Elapsed in dict implementation: \", time.strftime(\"%H:%M:%S\", time.gmtime(dict_elapsed)))\n"
   ]
  },
  {
   "cell_type": "code",
   "execution_count": 28,
   "metadata": {},
   "outputs": [
    {
     "name": "stdout",
     "output_type": "stream",
     "text": [
      "\n",
      "****************************** Method 3: Cherry Picking\n",
      "Length of Class:  0 in training is:  3554\n",
      "Length of Class:  0 in testing is:  1185\n",
      "Length of Class:  0 in validation is:  1184\n",
      "\n",
      "\n",
      "Length of Class:  1 in training is:  4046\n",
      "Length of Class:  1 in testing is:  1348\n",
      "Length of Class:  1 in validation is:  1348\n",
      "\n",
      "\n",
      "Length of Class:  2 in training is:  3575\n",
      "Length of Class:  2 in testing is:  1192\n",
      "Length of Class:  2 in validation is:  1191\n",
      "\n",
      "\n",
      "Length of Class:  3 in training is:  3679\n",
      "Length of Class:  3 in testing is:  1226\n",
      "Length of Class:  3 in validation is:  1226\n",
      "\n",
      "\n",
      "Length of Class:  4 in training is:  3506\n",
      "Length of Class:  4 in testing is:  1168\n",
      "Length of Class:  4 in validation is:  1168\n",
      "\n",
      "\n",
      "Length of Class:  5 in training is:  3253\n",
      "Length of Class:  5 in testing is:  1084\n",
      "Length of Class:  5 in validation is:  1084\n",
      "\n",
      "\n",
      "Length of Class:  6 in training is:  3551\n",
      "Length of Class:  6 in testing is:  1184\n",
      "Length of Class:  6 in validation is:  1183\n",
      "\n",
      "\n",
      "Length of Class:  7 in training is:  3759\n",
      "Length of Class:  7 in testing is:  1253\n",
      "Length of Class:  7 in validation is:  1253\n",
      "\n",
      "\n",
      "Length of Class:  8 in training is:  3511\n",
      "Length of Class:  8 in testing is:  1170\n",
      "Length of Class:  8 in validation is:  1170\n",
      "\n",
      "\n",
      "Length of Class:  9 in training is:  3570\n",
      "Length of Class:  9 in testing is:  1190\n",
      "Length of Class:  9 in validation is:  1189\n",
      "\n",
      "\n",
      "Time Elapsed in function:  00:00:00\n"
     ]
    }
   ],
   "source": [
    "#Or better still Just get the indices and choose from amongst them randomly\n",
    "print (\"\\n****************************** Method 3: Cherry Picking\")\n",
    "labels = np.array(training_data[1])\n",
    "#for i in range(10):\n",
    "#        label_index = np.where(labels==i)\n",
    "#        print (\"[Method 3]: Length of Class: \",i,\" is: \", len(label_index[0]))\n",
    "func_time_begin                                 = time.time()\n",
    "train_test_validate_split(60,20) #To_Be_Discussed\n",
    "func_time                                                 = time.time()\n",
    "func_elapsed                                        = func_time - func_time_begin\n",
    "print (\"Time Elapsed in function: \", time.strftime(\"%H:%M:%S\", time.gmtime(func_elapsed)))"
   ]
  },
  {
   "cell_type": "code",
   "execution_count": null,
   "metadata": {
    "collapsed": true
   },
   "outputs": [],
   "source": []
  }
 ],
 "metadata": {
  "kernelspec": {
   "display_name": "Python 3",
   "language": "python",
   "name": "python3"
  },
  "language_info": {
   "codemirror_mode": {
    "name": "ipython",
    "version": 3
   },
   "file_extension": ".py",
   "mimetype": "text/x-python",
   "name": "python",
   "nbconvert_exporter": "python",
   "pygments_lexer": "ipython3",
   "version": "3.6.1"
  }
 },
 "nbformat": 4,
 "nbformat_minor": 2
}
