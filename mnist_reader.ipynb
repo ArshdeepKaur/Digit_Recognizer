{
 "cells": [
  {
   "cell_type": "code",
   "execution_count": null,
   "metadata": {
    "collapsed": true
   },
   "outputs": [],
   "source": [
    "###########################################\n",
    "#        Script By Arshi and Rishi        #\n",
    "#                                         #\n",
    "###########################################"
   ]
  },
  {
   "cell_type": "code",
   "execution_count": 4,
   "metadata": {
    "collapsed": true
   },
   "outputs": [],
   "source": [
    "from mnist import MNIST\n",
    "import numpy as np\n",
    "import time\n",
    "import matplotlib.pyplot as plt\n",
    "import random\n",
    "\n",
    "from pandas import DataFrame\n",
    "import pandas as pd"
   ]
  },
  {
   "cell_type": "code",
   "execution_count": 6,
   "metadata": {},
   "outputs": [
    {
     "name": "stdout",
     "output_type": "stream",
     "text": [
      "****************************** Data/Image Structure\n",
      "Images Structure:  (60000, 784)\n",
      "Label Structure:  (60000,)\n"
     ]
    }
   ],
   "source": [
    "#Use the following to isntall this MNIST Reading Library\n",
    "#pip install python-mnist\n",
    "mndata = MNIST('./Data/MNIST')                     #Specify your path to the ubyte files here\n",
    "training_data = mndata.load_training() #training_data[0] contains 60K images in 60Kx784 format and 60K Labels in 60K x 1 format\n",
    "testing_data = mndata.load_testing()   #training_data[0] contains 10K images in 10Kx784 format and 10K Labels in 10K x 1 format\n",
    "\n",
    "#Number of Images you want to Display\n",
    "num_images = 0\n",
    "\n",
    "#Waiting Time in Seconds between each displayed image\n",
    "wait_time = 0.5\n",
    "\n",
    "print(\"****************************** Data/Image Structure\")\n",
    "print (\"Images Structure: \", np.shape(training_data[0]))\n",
    "print (\"Label Structure: \", np.shape(training_data[1]))"
   ]
  },
  {
   "cell_type": "code",
   "execution_count": 7,
   "metadata": {},
   "outputs": [
    {
     "name": "stdout",
     "output_type": "stream",
     "text": [
      "Size Of Training Data: 60000\n",
      "Size Of Testing Data: 10000\n",
      "NO. of Input Neurons: 784\n"
     ]
    }
   ],
   "source": [
    "'''\n",
    "Function to Display Images\n",
    "'''\n",
    "def show_images():\n",
    "    im_count=0\n",
    "    while im_count<num_images:\n",
    "        img = np.array(training_data[0][im_count])         #img is 1 x 784\n",
    "        label = np.array(training_data[1][im_count])    #label for img\n",
    "        np.resize(img,(28,28))                #1 x 784 -> 28 x 28\n",
    "        img = np.reshape(img, (28, 28))\n",
    "        plt.imshow(img, cmap='gray', interpolation='nearest')\n",
    "        plt.show(block=False)                #Show Image\n",
    "        im_count+=1\n",
    "        print (\"Image Label: \", label)        #Print Image Label\n",
    "        time.sleep(wait_time)\n",
    "        plt.close()\n",
    "\n",
    "num_training_examples = len(training_data[0])\n",
    "num_testing_examples = len(testing_data[0])\n",
    "num_input_neurons = len(training_data[0][0])\n",
    "\n",
    "print (\"Size Of Training Data:\", num_training_examples)\n",
    "print (\"Size Of Testing Data:\", num_testing_examples)\n",
    "print (\"NO. of Input Neurons:\", num_input_neurons)\n",
    "\n",
    "#Function Call to Plot Each Digit Image\n",
    "show_images()"
   ]
  },
  {
   "cell_type": "code",
   "execution_count": 8,
   "metadata": {
    "collapsed": true
   },
   "outputs": [],
   "source": [
    "'''\n",
    "Function to pick n random images from each label\n",
    "INPUTS: n=number of random images required for each label  \n",
    "OUTPUTS: NA\n",
    "RETURN: \n",
    "'''\n",
    "def  randomly_choose_n_images(n): # inputs: n (number of images)\n",
    "    random_training_data_by_labels = [[]] * 10 #lists of 10 lists\n",
    "    \n",
    "    #initialize dynamic lists\n",
    "    label_count = 0\n",
    "    while (label_count < 10):\n",
    "        random_training_data_by_labels[label_count] = list()\n",
    "        #print ( \"Label ID:\", label_count, \", List ID:\", id(random_training_data_by_labels[label_count]))\n",
    "        label_count+=1    \n",
    "    itr = 0\n",
    "    label_count = 0\n",
    "    while (label_count < 10):\n",
    "        random_values = []\n",
    "        random_values = random.sample(range(1, len(training_data_by_labels[label_count])), n) #This just picks up every nth number from 1:size_of_data_for_a_label    \n",
    "        #print (\"The random values generated are: \", random_values)\n",
    "        while (itr < len(random_values)):\n",
    "            random_training_data_by_labels[label].append(training_data_by_labels[label][itr]) #Again this list implementation won't work\n",
    "            itr+=1\n",
    "        label_count+=1\n",
    "    return random_training_data_by_labels"
   ]
  },
  {
   "cell_type": "code",
   "execution_count": 9,
   "metadata": {},
   "outputs": [
    {
     "name": "stdout",
     "output_type": "stream",
     "text": [
      "\n",
      "****************************** Method 1: LIST IMPLEMENTATION\n",
      "[METHOD 1]: Length of Class:  0  is:  5923\n",
      "[METHOD 1]: Length of Class:  1  is:  6742\n",
      "[METHOD 1]: Length of Class:  2  is:  5958\n",
      "[METHOD 1]: Length of Class:  3  is:  6131\n",
      "[METHOD 1]: Length of Class:  4  is:  5842\n",
      "[METHOD 1]: Length of Class:  5  is:  5421\n",
      "[METHOD 1]: Length of Class:  6  is:  5918\n",
      "[METHOD 1]: Length of Class:  7  is:  6265\n",
      "[METHOD 1]: Length of Class:  8  is:  5851\n",
      "[METHOD 1]: Length of Class:  9  is:  5949\n"
     ]
    }
   ],
   "source": [
    "start_time = time.time()\n",
    "print (\"\\n****************************** Method 1: LIST IMPLEMENTATION\")\n",
    "im_count=0\n",
    "training_data_by_labels = [[]] * 10 #lists of 10 lists\n",
    "\n",
    "#initialize dynamic lists\n",
    "label_count = 0\n",
    "while (label_count < 10):\n",
    "    training_data_by_labels[label_count] = list()\n",
    "    #print ( \"Label ID:\", label_count, \", List ID:\", id(training_data_by_labels[label_count]))\n",
    "    label_count+=1\n",
    "\n",
    "while im_count<len(training_data[1]):\n",
    "    label = np.array(training_data[1][im_count])    \n",
    "    training_data_by_labels[label].append(np.array(training_data[0][im_count])) #split data by labels\n",
    "    im_count+=1    \n",
    "\n",
    "list_implementation_time = time.time()\n",
    "for i in range(10):\n",
    "    print (\"[METHOD 1]: Length of Class: \",i,\" is: \", len(training_data_by_labels[i]))"
   ]
  },
  {
   "cell_type": "code",
   "execution_count": 10,
   "metadata": {},
   "outputs": [
    {
     "name": "stdout",
     "output_type": "stream",
     "text": [
      "\n",
      "****************************** Method 2: DICTIONARY IMPLEMENTATION\n",
      "Length of Dictionary is:  10\n",
      "[METHOD 2]: Length of Class:  0  is:  5923\n",
      "[METHOD 2]: Length of Class:  1  is:  6742\n",
      "[METHOD 2]: Length of Class:  2  is:  5958\n",
      "[METHOD 2]: Length of Class:  3  is:  6131\n",
      "[METHOD 2]: Length of Class:  4  is:  5842\n",
      "[METHOD 2]: Length of Class:  5  is:  5421\n",
      "[METHOD 2]: Length of Class:  6  is:  5918\n",
      "[METHOD 2]: Length of Class:  7  is:  6265\n",
      "[METHOD 2]: Length of Class:  8  is:  5851\n",
      "[METHOD 2]: Length of Class:  9  is:  5949\n"
     ]
    }
   ],
   "source": [
    "im_count=0\n",
    "#Dictionary Implementation\n",
    "print (\"\\n****************************** Method 2: DICTIONARY IMPLEMENTATION\")\n",
    "training_data_by_labels_dict = {}\n",
    "while im_count<len(training_data[1]):\n",
    "    label = training_data[1][im_count]            #extract label for image\n",
    "    try:\n",
    "        curr_list = training_data_by_labels_dict[label] #Get the current list of images for a particular label\n",
    "        curr_list.append(training_data[0][im_count])    #Append the new image to the bigger list for dictionary\n",
    "        temp_dict = {label:curr_list}                    #Create a temporary small dictionary\n",
    "        training_data_by_labels_dict.update(temp_dict)    #Update master dictionary\n",
    "    except:                                                #If no data found for that label\n",
    "        curr_list = [training_data[0][im_count]]\n",
    "        temp_dict = {label:curr_list}\n",
    "        training_data_by_labels_dict.update(temp_dict)\n",
    "    \n",
    "    im_count+=1    \n",
    "    \n",
    "dict_implementation_time        = time.time()    \n",
    "\n",
    "final_dict_len = len(training_data_by_labels_dict)\n",
    "print (\"Length of Dictionary is: \", final_dict_len)\n",
    "for i in range(final_dict_len):\n",
    "    print (\"[METHOD 2]: Length of Class: \",i,\" is: \", len(training_data_by_labels_dict[i]))"
   ]
  },
  {
   "cell_type": "code",
   "execution_count": 11,
   "metadata": {},
   "outputs": [
    {
     "name": "stdout",
     "output_type": "stream",
     "text": [
      "\n",
      "****************************** Method 3: Cherry Picking\n",
      "[Method 3]: Length of Class:  0  is:  5923\n",
      "[Method 3]: Length of Class:  1  is:  6742\n",
      "[Method 3]: Length of Class:  2  is:  5958\n",
      "[Method 3]: Length of Class:  3  is:  6131\n",
      "[Method 3]: Length of Class:  4  is:  5842\n",
      "[Method 3]: Length of Class:  5  is:  5421\n",
      "[Method 3]: Length of Class:  6  is:  5918\n",
      "[Method 3]: Length of Class:  7  is:  6265\n",
      "[Method 3]: Length of Class:  8  is:  5851\n",
      "[Method 3]: Length of Class:  9  is:  5949\n"
     ]
    }
   ],
   "source": [
    "#Or better still Just get the indices and choose from amongst them randomly\n",
    "print (\"\\n****************************** Method 3: Cherry Picking\")\n",
    "labels = np.array(training_data[1])\n",
    "for i in range(10):\n",
    "        label_index = np.where(labels==i)\n",
    "        print (\"[Method 3]: Length of Class: \",i,\" is: \", len(label_index[0]))\n",
    "func_time_begin                                 = time.time()\n",
    "random_training_data_by_labels         = randomly_choose_n_images(5)\n",
    "func_time                                                 = time.time()\n",
    "list_elapsed                                         = list_implementation_time - start_time\n",
    "dict_elapsed                                         = dict_implementation_time - list_implementation_time\n",
    "func_elapsed                                        = func_time - func_time_begin\n"
   ]
  },
  {
   "cell_type": "code",
   "execution_count": 12,
   "metadata": {},
   "outputs": [
    {
     "name": "stdout",
     "output_type": "stream",
     "text": [
      "\n",
      "\n",
      "Time Elapsed in list implementation:  00:00:05\n",
      "Time Elapsed in dict implementation:  00:00:15\n",
      "Time Elapsed in function:  00:00:00\n"
     ]
    }
   ],
   "source": [
    "print (\"\\n\\nTime Elapsed in list implementation: \", time.strftime(\"%H:%M:%S\", time.gmtime(list_elapsed)))\n",
    "print (\"Time Elapsed in dict implementation: \", time.strftime(\"%H:%M:%S\", time.gmtime(dict_elapsed)))\n",
    "print (\"Time Elapsed in function: \", time.strftime(\"%H:%M:%S\", time.gmtime(func_elapsed)))"
   ]
  },
  {
   "cell_type": "code",
   "execution_count": null,
   "metadata": {
    "collapsed": true
   },
   "outputs": [],
   "source": []
  }
 ],
 "metadata": {
  "kernelspec": {
   "display_name": "Python 3",
   "language": "python",
   "name": "python3"
  },
  "language_info": {
   "codemirror_mode": {
    "name": "ipython",
    "version": 3
   },
   "file_extension": ".py",
   "mimetype": "text/x-python",
   "name": "python",
   "nbconvert_exporter": "python",
   "pygments_lexer": "ipython3",
   "version": "3.6.1"
  }
 },
 "nbformat": 4,
 "nbformat_minor": 2
}
